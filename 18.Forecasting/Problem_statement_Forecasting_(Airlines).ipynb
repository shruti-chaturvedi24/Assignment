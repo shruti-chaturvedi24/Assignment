{
 "cells": [
  {
   "cell_type": "markdown",
   "id": "97320be3",
   "metadata": {},
   "source": [
    "# Assignment_18_Q1_Forecasting_(Airlines)"
   ]
  },
  {
   "cell_type": "markdown",
   "id": "367ddfab",
   "metadata": {},
   "source": [
    "## Import necessary libraries"
   ]
  },
  {
   "cell_type": "code",
   "execution_count": 1,
   "id": "5c381500",
   "metadata": {},
   "outputs": [],
   "source": [
    "import numpy as np\n",
    "import pandas as pd\n",
    "import matplotlib.pyplot as plt\n",
    "import seaborn as sns\n",
    "import statsmodels.formula.api as smf\n",
    "from statsmodels.tsa.seasonal import seasonal_decompose\n",
    "from statsmodels.tsa.holtwinters import SimpleExpSmoothing\n",
    "from statsmodels.tsa.holtwinters import Holt\n",
    "from statsmodels.tsa.holtwinters import ExponentialSmoothing\n",
    "import statsmodels.graphics.tsaplots as tsa_plots"
   ]
  },
  {
   "cell_type": "code",
   "execution_count": 2,
   "id": "1ea20b27",
   "metadata": {},
   "outputs": [],
   "source": [
    "import warnings\n",
    "warnings.filterwarnings('ignore')"
   ]
  },
  {
   "cell_type": "markdown",
   "id": "47d97221",
   "metadata": {},
   "source": [
    "## Import Data"
   ]
  },
  {
   "cell_type": "code",
   "execution_count": 3,
   "id": "f207f635",
   "metadata": {},
   "outputs": [
    {
     "data": {
      "text/html": [
       "<div>\n",
       "<style scoped>\n",
       "    .dataframe tbody tr th:only-of-type {\n",
       "        vertical-align: middle;\n",
       "    }\n",
       "\n",
       "    .dataframe tbody tr th {\n",
       "        vertical-align: top;\n",
       "    }\n",
       "\n",
       "    .dataframe thead th {\n",
       "        text-align: right;\n",
       "    }\n",
       "</style>\n",
       "<table border=\"1\" class=\"dataframe\">\n",
       "  <thead>\n",
       "    <tr style=\"text-align: right;\">\n",
       "      <th></th>\n",
       "      <th>Month</th>\n",
       "      <th>Passengers</th>\n",
       "    </tr>\n",
       "  </thead>\n",
       "  <tbody>\n",
       "    <tr>\n",
       "      <th>0</th>\n",
       "      <td>1995-01-01</td>\n",
       "      <td>112</td>\n",
       "    </tr>\n",
       "    <tr>\n",
       "      <th>1</th>\n",
       "      <td>1995-02-01</td>\n",
       "      <td>118</td>\n",
       "    </tr>\n",
       "    <tr>\n",
       "      <th>2</th>\n",
       "      <td>1995-03-01</td>\n",
       "      <td>132</td>\n",
       "    </tr>\n",
       "    <tr>\n",
       "      <th>3</th>\n",
       "      <td>1995-04-01</td>\n",
       "      <td>129</td>\n",
       "    </tr>\n",
       "    <tr>\n",
       "      <th>4</th>\n",
       "      <td>1995-05-01</td>\n",
       "      <td>121</td>\n",
       "    </tr>\n",
       "    <tr>\n",
       "      <th>...</th>\n",
       "      <td>...</td>\n",
       "      <td>...</td>\n",
       "    </tr>\n",
       "    <tr>\n",
       "      <th>91</th>\n",
       "      <td>2002-08-01</td>\n",
       "      <td>405</td>\n",
       "    </tr>\n",
       "    <tr>\n",
       "      <th>92</th>\n",
       "      <td>2002-09-01</td>\n",
       "      <td>355</td>\n",
       "    </tr>\n",
       "    <tr>\n",
       "      <th>93</th>\n",
       "      <td>2002-10-01</td>\n",
       "      <td>306</td>\n",
       "    </tr>\n",
       "    <tr>\n",
       "      <th>94</th>\n",
       "      <td>2002-11-01</td>\n",
       "      <td>271</td>\n",
       "    </tr>\n",
       "    <tr>\n",
       "      <th>95</th>\n",
       "      <td>2002-12-01</td>\n",
       "      <td>306</td>\n",
       "    </tr>\n",
       "  </tbody>\n",
       "</table>\n",
       "<p>96 rows × 2 columns</p>\n",
       "</div>"
      ],
      "text/plain": [
       "        Month  Passengers\n",
       "0  1995-01-01         112\n",
       "1  1995-02-01         118\n",
       "2  1995-03-01         132\n",
       "3  1995-04-01         129\n",
       "4  1995-05-01         121\n",
       "..        ...         ...\n",
       "91 2002-08-01         405\n",
       "92 2002-09-01         355\n",
       "93 2002-10-01         306\n",
       "94 2002-11-01         271\n",
       "95 2002-12-01         306\n",
       "\n",
       "[96 rows x 2 columns]"
      ]
     },
     "execution_count": 3,
     "metadata": {},
     "output_type": "execute_result"
    }
   ],
   "source": [
    "Airline = pd.read_excel('Airlines+Data.xlsx')\n",
    "Airline"
   ]
  },
  {
   "cell_type": "markdown",
   "id": "21a87f40",
   "metadata": {},
   "source": [
    "## Data Understanding"
   ]
  },
  {
   "cell_type": "code",
   "execution_count": 4,
   "id": "80311864",
   "metadata": {},
   "outputs": [
    {
     "data": {
      "text/plain": [
       "Month         datetime64[ns]\n",
       "Passengers             int64\n",
       "dtype: object"
      ]
     },
     "execution_count": 4,
     "metadata": {},
     "output_type": "execute_result"
    }
   ],
   "source": [
    "Airline.dtypes"
   ]
  },
  {
   "cell_type": "code",
   "execution_count": 5,
   "id": "c7ab1f92",
   "metadata": {},
   "outputs": [
    {
     "data": {
      "text/plain": [
       "(96, 2)"
      ]
     },
     "execution_count": 5,
     "metadata": {},
     "output_type": "execute_result"
    }
   ],
   "source": [
    "Airline.shape"
   ]
  },
  {
   "cell_type": "code",
   "execution_count": 6,
   "id": "4573a2cf",
   "metadata": {},
   "outputs": [
    {
     "data": {
      "text/html": [
       "<div>\n",
       "<style scoped>\n",
       "    .dataframe tbody tr th:only-of-type {\n",
       "        vertical-align: middle;\n",
       "    }\n",
       "\n",
       "    .dataframe tbody tr th {\n",
       "        vertical-align: top;\n",
       "    }\n",
       "\n",
       "    .dataframe thead th {\n",
       "        text-align: right;\n",
       "    }\n",
       "</style>\n",
       "<table border=\"1\" class=\"dataframe\">\n",
       "  <thead>\n",
       "    <tr style=\"text-align: right;\">\n",
       "      <th></th>\n",
       "      <th>Passengers</th>\n",
       "    </tr>\n",
       "  </thead>\n",
       "  <tbody>\n",
       "    <tr>\n",
       "      <th>count</th>\n",
       "      <td>96.000000</td>\n",
       "    </tr>\n",
       "    <tr>\n",
       "      <th>mean</th>\n",
       "      <td>213.708333</td>\n",
       "    </tr>\n",
       "    <tr>\n",
       "      <th>std</th>\n",
       "      <td>71.918216</td>\n",
       "    </tr>\n",
       "    <tr>\n",
       "      <th>min</th>\n",
       "      <td>104.000000</td>\n",
       "    </tr>\n",
       "    <tr>\n",
       "      <th>25%</th>\n",
       "      <td>156.000000</td>\n",
       "    </tr>\n",
       "    <tr>\n",
       "      <th>50%</th>\n",
       "      <td>200.000000</td>\n",
       "    </tr>\n",
       "    <tr>\n",
       "      <th>75%</th>\n",
       "      <td>264.750000</td>\n",
       "    </tr>\n",
       "    <tr>\n",
       "      <th>max</th>\n",
       "      <td>413.000000</td>\n",
       "    </tr>\n",
       "  </tbody>\n",
       "</table>\n",
       "</div>"
      ],
      "text/plain": [
       "       Passengers\n",
       "count   96.000000\n",
       "mean   213.708333\n",
       "std     71.918216\n",
       "min    104.000000\n",
       "25%    156.000000\n",
       "50%    200.000000\n",
       "75%    264.750000\n",
       "max    413.000000"
      ]
     },
     "execution_count": 6,
     "metadata": {},
     "output_type": "execute_result"
    }
   ],
   "source": [
    "Airline.describe()"
   ]
  },
  {
   "cell_type": "code",
   "execution_count": 7,
   "id": "b2a97a51",
   "metadata": {},
   "outputs": [
    {
     "data": {
      "text/plain": [
       "Month         0\n",
       "Passengers    0\n",
       "dtype: int64"
      ]
     },
     "execution_count": 7,
     "metadata": {},
     "output_type": "execute_result"
    }
   ],
   "source": [
    "Airline.isnull().sum()"
   ]
  },
  {
   "cell_type": "markdown",
   "id": "2c1bc086",
   "metadata": {},
   "source": [
    "## Data Visulisation"
   ]
  },
  {
   "cell_type": "code",
   "execution_count": 8,
   "id": "66358505",
   "metadata": {},
   "outputs": [
    {
     "data": {
      "text/plain": [
       "<AxesSubplot:>"
      ]
     },
     "execution_count": 8,
     "metadata": {},
     "output_type": "execute_result"
    },
    {
     "data": {
      "image/png": "[encoded data removed]",
      "text/plain": [
       "<Figure size 432x288 with 1 Axes>"
      ]
     },
     "metadata": {
      "needs_background": "light"
     },
     "output_type": "display_data"
    }
   ],
   "source": [
    "Airline.Passengers.plot()"
   ]
  },
  {
   "cell_type": "code",
   "execution_count": 9,
   "id": "31747e08",
   "metadata": {},
   "outputs": [
    {
     "data": {
      "text/plain": [
       "<AxesSubplot:xlabel='Passengers'>"
      ]
     },
     "execution_count": 9,
     "metadata": {},
     "output_type": "execute_result"
    },
    {
     "data": {
      "image/png": "[encoded data removed]",
      "text/plain": [
       "<Figure size 432x288 with 1 Axes>"
      ]
     },
     "metadata": {
      "needs_background": "light"
     },
     "output_type": "display_data"
    }
   ],
   "source": [
    "sns.boxplot(Airline.Passengers)"
   ]
  },
  {
   "cell_type": "code",
   "execution_count": 10,
   "id": "f0c30d18",
   "metadata": {},
   "outputs": [
    {
     "data": {
      "text/plain": [
       "<seaborn.axisgrid.FacetGrid at 0x1f321a67b20>"
      ]
     },
     "execution_count": 10,
     "metadata": {},
     "output_type": "execute_result"
    },
    {
     "data": {
      "image/png": "[encoded data removed]",
      "text/plain": [
       "<Figure size 360x360 with 1 Axes>"
      ]
     },
     "metadata": {
      "needs_background": "light"
     },
     "output_type": "display_data"
    }
   ],
   "source": [
    "sns.factorplot('Month','Passengers',data=Airline)"
   ]
  },
  {
   "cell_type": "markdown",
   "id": "7124c497",
   "metadata": {},
   "source": [
    "## Data Driven Based"
   ]
  },
  {
   "cell_type": "markdown",
   "id": "c4c13b7d",
   "metadata": {},
   "source": [
    "## Moving Average"
   ]
  },
  {
   "cell_type": "code",
   "execution_count": 11,
   "id": "5f11fea6",
   "metadata": {},
   "outputs": [
    {
     "data": {
      "text/plain": [
       "<matplotlib.legend.Legend at 0x1f322c0df10>"
      ]
     },
     "execution_count": 11,
     "metadata": {},
     "output_type": "execute_result"
    },
    {
     "data": {
      "image/png": "[encoded data removed]",
      "text/plain": [
       "<Figure size 864x288 with 1 Axes>"
      ]
     },
     "metadata": {
      "needs_background": "light"
     },
     "output_type": "display_data"
    }
   ],
   "source": [
    "plt.figure(figsize=(12,4))\n",
    "Airline.Passengers.plot(label=\"org\")\n",
    "for i in range(2,24,6):\n",
    "    Airline[\"Passengers\"].rolling(i).mean().plot(label=str(i))\n",
    "plt.legend(loc='best')"
   ]
  },
  {
   "cell_type": "markdown",
   "id": "28f9f28b",
   "metadata": {},
   "source": [
    "## Time series decomposition plot"
   ]
  },
  {
   "cell_type": "code",
   "execution_count": 13,
   "id": "7ca98a61",
   "metadata": {},
   "outputs": [
    {
     "data": {
      "image/png": "[encoded data removed]",
      "text/plain": [
       "<Figure size 432x288 with 4 Axes>"
      ]
     },
     "metadata": {
      "needs_background": "light"
     },
     "output_type": "display_data"
    }
   ],
   "source": [
    "decompose_ts_add = seasonal_decompose(Airline.Passengers,freq=12,model=\"additive\")\n",
    "decompose_ts_add.plot()\n",
    "plt.show()"
   ]
  },
  {
   "cell_type": "code",
   "execution_count": 14,
   "id": "8dbd0e46",
   "metadata": {},
   "outputs": [
    {
     "data": {
      "image/png": "[encoded data removed]",
      "text/plain": [
       "<Figure size 432x288 with 4 Axes>"
      ]
     },
     "metadata": {
      "needs_background": "light"
     },
     "output_type": "display_data"
    }
   ],
   "source": [
    "decompose_ts_add = seasonal_decompose(Airline.Passengers,freq=12,model=\"multiplicative\")\n",
    "decompose_ts_add.plot()\n",
    "plt.show()"
   ]
  },
  {
   "cell_type": "markdown",
   "id": "295a96bd",
   "metadata": {},
   "source": [
    "## ACF and PACF plots"
   ]
  },
  {
   "cell_type": "code",
   "execution_count": 15,
   "id": "c88d7348",
   "metadata": {},
   "outputs": [
    {
     "data": {
      "image/png": "[encoded data removed]",
      "text/plain": [
       "<Figure size 432x288 with 1 Axes>"
      ]
     },
     "metadata": {
      "needs_background": "light"
     },
     "output_type": "display_data"
    },
    {
     "data": {
      "image/png": "[encoded data removed]",
      "text/plain": [
       "<Figure size 432x288 with 1 Axes>"
      ]
     },
     "metadata": {
      "needs_background": "light"
     },
     "output_type": "display_data"
    }
   ],
   "source": [
    "tsa_plots.plot_acf(Airline.Passengers,lags=12)\n",
    "tsa_plots.plot_pacf(Airline.Passengers)\n",
    "plt.show()"
   ]
  },
  {
   "cell_type": "markdown",
   "id": "4bc8a7fc",
   "metadata": {},
   "source": [
    "## Model Building"
   ]
  },
  {
   "cell_type": "code",
   "execution_count": 16,
   "id": "659ceb66",
   "metadata": {},
   "outputs": [],
   "source": [
    "Train = Airline.head(70)\n",
    "Test  = Airline.tail(26)"
   ]
  },
  {
   "cell_type": "code",
   "execution_count": 17,
   "id": "d757e53b",
   "metadata": {},
   "outputs": [],
   "source": [
    "# Evulation Matrix MAPE\n",
    "def MAPE(pred,org):\n",
    "    temp = np.abs((pred-org)/org)*100\n",
    "    return np.mean(temp)"
   ]
  },
  {
   "cell_type": "markdown",
   "id": "63ccd4db",
   "metadata": {},
   "source": [
    "## 1.Simple Exponential Method"
   ]
  },
  {
   "cell_type": "code",
   "execution_count": 18,
   "id": "7f9ac0c1",
   "metadata": {},
   "outputs": [
    {
     "data": {
      "text/plain": [
       "22.076256764951356"
      ]
     },
     "execution_count": 18,
     "metadata": {},
     "output_type": "execute_result"
    }
   ],
   "source": [
    "ses_model = SimpleExpSmoothing(Train[\"Passengers\"]).fit()\n",
    "pred_ses = ses_model.predict(start = Test.index[0],end = Test.index[-1])\n",
    "MAPE(pred_ses,Test.Passengers)"
   ]
  },
  {
   "cell_type": "markdown",
   "id": "583e6c43",
   "metadata": {},
   "source": [
    "## 2.Holt Method"
   ]
  },
  {
   "cell_type": "code",
   "execution_count": 19,
   "id": "e5a43989",
   "metadata": {},
   "outputs": [
    {
     "data": {
      "text/plain": [
       "15.41799357622358"
      ]
     },
     "execution_count": 19,
     "metadata": {},
     "output_type": "execute_result"
    }
   ],
   "source": [
    "hw_model = Holt(Train[\"Passengers\"]).fit()\n",
    "pred_hw = hw_model.predict(start = Test.index[0],end = Test.index[-1])\n",
    "MAPE(pred_hw,Test.Passengers)"
   ]
  },
  {
   "cell_type": "markdown",
   "id": "0c4178bb",
   "metadata": {},
   "source": [
    "## 3.Holts winter exponential smoothing with additive seasonality and additive trend"
   ]
  },
  {
   "cell_type": "code",
   "execution_count": 20,
   "id": "56320424",
   "metadata": {},
   "outputs": [
    {
     "data": {
      "text/plain": [
       "10.80194843580534"
      ]
     },
     "execution_count": 20,
     "metadata": {},
     "output_type": "execute_result"
    }
   ],
   "source": [
    "hwe_model_add_add = ExponentialSmoothing(Train[\"Passengers\"],seasonal=\"add\",trend=\"add\",seasonal_periods=12).fit() \n",
    "pred_hwe_add_add = hwe_model_add_add.predict(start = Test.index[0],end = Test.index[-1])\n",
    "MAPE(pred_hwe_add_add,Test.Passengers)"
   ]
  },
  {
   "cell_type": "markdown",
   "id": "a09ba277",
   "metadata": {},
   "source": [
    "## 4.Holts winter exponential smoothing with multiplicative seasonality and additive trend"
   ]
  },
  {
   "cell_type": "markdown",
   "id": "f28748d2",
   "metadata": {},
   "source": [
    "## From above 4 methods , we can see least MAPE for Holts winter exponential smmothing with additive seasonality and additive trend"
   ]
  },
  {
   "cell_type": "code",
   "execution_count": 21,
   "id": "a4683a4f",
   "metadata": {},
   "outputs": [],
   "source": [
    "hwe_model_add_add = ExponentialSmoothing(Airline[\"Passengers\"],seasonal=\"add\",trend=\"add\",seasonal_periods=12).fit()"
   ]
  },
  {
   "cell_type": "markdown",
   "id": "001c2885",
   "metadata": {},
   "source": [
    "## Lets see 10 future forecast"
   ]
  },
  {
   "cell_type": "code",
   "execution_count": 22,
   "id": "d3f23135",
   "metadata": {},
   "outputs": [
    {
     "data": {
      "text/plain": [
       "96     319.235284\n",
       "97     311.528413\n",
       "98     350.278738\n",
       "99     346.985064\n",
       "100    351.845130\n",
       "101    403.925766\n",
       "102    440.566807\n",
       "103    427.446405\n",
       "104    376.628081\n",
       "105    329.767444\n",
       "dtype: float64"
      ]
     },
     "execution_count": 22,
     "metadata": {},
     "output_type": "execute_result"
    }
   ],
   "source": [
    "hwe_model_add_add.forecast(10)"
   ]
  },
  {
   "cell_type": "code",
   "execution_count": 23,
   "id": "8313bf7a",
   "metadata": {},
   "outputs": [
    {
     "data": {
      "text/plain": [
       "{'smoothing_level': 0.25465096677759974,\n",
       " 'smoothing_trend': 0.0,\n",
       " 'smoothing_seasonal': 0.7453490332224002,\n",
       " 'damping_trend': nan,\n",
       " 'initial_level': 175.8862045205537,\n",
       " 'initial_trend': 2.3328384315692254,\n",
       " 'initial_seasons': array([-66.22063198, -60.62097066, -48.14661065, -53.41986225,\n",
       "        -62.18508297, -48.08588492, -35.87370184, -38.30087523,\n",
       "        -52.43139355, -71.23316601, -85.67073639, -69.06058726]),\n",
       " 'use_boxcox': False,\n",
       " 'lamda': None,\n",
       " 'remove_bias': False}"
      ]
     },
     "execution_count": 23,
     "metadata": {},
     "output_type": "execute_result"
    }
   ],
   "source": [
    "hwe_model_add_add.params"
   ]
  },
  {
   "cell_type": "code",
   "execution_count": 24,
   "id": "3a05bf1b",
   "metadata": {},
   "outputs": [
    {
     "data": {
      "text/plain": [
       "[<matplotlib.lines.Line2D at 0x1f322fdb160>]"
      ]
     },
     "execution_count": 24,
     "metadata": {},
     "output_type": "execute_result"
    },
    {
     "data": {
      "image/png": "[encoded data removed]",
      "text/plain": [
       "<Figure size 432x288 with 1 Axes>"
      ]
     },
     "metadata": {
      "needs_background": "light"
     },
     "output_type": "display_data"
    }
   ],
   "source": [
    "plt.plot(Train.index, Train[\"Passengers\"], label='Train')"
   ]
  },
  {
   "cell_type": "code",
   "execution_count": 25,
   "id": "30886c0b",
   "metadata": {},
   "outputs": [
    {
     "data": {
      "text/plain": [
       "[<matplotlib.lines.Line2D at 0x1f32302f520>]"
      ]
     },
     "execution_count": 25,
     "metadata": {},
     "output_type": "execute_result"
    },
    {
     "data": {
      "image/png": "[encoded data removed]",
      "text/plain": [
       "<Figure size 432x288 with 1 Axes>"
      ]
     },
     "metadata": {
      "needs_background": "light"
     },
     "output_type": "display_data"
    }
   ],
   "source": [
    "plt.plot(Test.index, Test[\"Passengers\"], label='Test')"
   ]
  },
  {
   "cell_type": "code",
   "execution_count": 26,
   "id": "80621097",
   "metadata": {},
   "outputs": [
    {
     "data": {
      "text/plain": [
       "[<matplotlib.lines.Line2D at 0x1f323079eb0>]"
      ]
     },
     "execution_count": 26,
     "metadata": {},
     "output_type": "execute_result"
    },
    {
     "data": {
      "image/png": "[encoded data removed]",
      "text/plain": [
       "<Figure size 432x288 with 1 Axes>"
      ]
     },
     "metadata": {
      "needs_background": "light"
     },
     "output_type": "display_data"
    }
   ],
   "source": [
    "plt.plot(pred_ses.index, pred_ses, label='SimpleExponential')"
   ]
  },
  {
   "cell_type": "code",
   "execution_count": 27,
   "id": "f5927809",
   "metadata": {},
   "outputs": [
    {
     "ename": "NameError",
     "evalue": "name 'pred_hwe_mul_add' is not defined",
     "output_type": "error",
     "traceback": [
      "\u001b[1;31m---------------------------------------------------------------------------\u001b[0m",
      "\u001b[1;31mNameError\u001b[0m                                 Traceback (most recent call last)",
      "\u001b[1;32m<ipython-input-27-f57150692584>\u001b[0m in \u001b[0;36m<module>\u001b[1;34m\u001b[0m\n\u001b[0;32m      1\u001b[0m \u001b[0mplt\u001b[0m\u001b[1;33m.\u001b[0m\u001b[0mplot\u001b[0m\u001b[1;33m(\u001b[0m\u001b[0mpred_hw\u001b[0m\u001b[1;33m.\u001b[0m\u001b[0mindex\u001b[0m\u001b[1;33m,\u001b[0m \u001b[0mpred_hw\u001b[0m\u001b[1;33m,\u001b[0m \u001b[0mlabel\u001b[0m\u001b[1;33m=\u001b[0m\u001b[1;34m'Holts_winter'\u001b[0m\u001b[1;33m)\u001b[0m\u001b[1;33m\u001b[0m\u001b[1;33m\u001b[0m\u001b[0m\n\u001b[0;32m      2\u001b[0m \u001b[0mplt\u001b[0m\u001b[1;33m.\u001b[0m\u001b[0mplot\u001b[0m\u001b[1;33m(\u001b[0m\u001b[0mpred_hwe_add_add\u001b[0m\u001b[1;33m.\u001b[0m\u001b[0mindex\u001b[0m\u001b[1;33m,\u001b[0m\u001b[0mpred_hwe_add_add\u001b[0m\u001b[1;33m,\u001b[0m\u001b[0mlabel\u001b[0m\u001b[1;33m=\u001b[0m\u001b[1;34m\"HoltsWinterExponential_1\"\u001b[0m\u001b[1;33m)\u001b[0m\u001b[1;33m\u001b[0m\u001b[1;33m\u001b[0m\u001b[0m\n\u001b[1;32m----> 3\u001b[1;33m \u001b[0mplt\u001b[0m\u001b[1;33m.\u001b[0m\u001b[0mplot\u001b[0m\u001b[1;33m(\u001b[0m\u001b[0mpred_hwe_mul_add\u001b[0m\u001b[1;33m.\u001b[0m\u001b[0mindex\u001b[0m\u001b[1;33m,\u001b[0m\u001b[0mpred_hwe_mul_add\u001b[0m\u001b[1;33m,\u001b[0m\u001b[0mlabel\u001b[0m\u001b[1;33m=\u001b[0m\u001b[1;34m\"HoltsWinterExponential_2\"\u001b[0m\u001b[1;33m)\u001b[0m\u001b[1;33m\u001b[0m\u001b[1;33m\u001b[0m\u001b[0m\n\u001b[0m\u001b[0;32m      4\u001b[0m \u001b[0mplt\u001b[0m\u001b[1;33m.\u001b[0m\u001b[0mlegend\u001b[0m\u001b[1;33m(\u001b[0m\u001b[0mloc\u001b[0m\u001b[1;33m=\u001b[0m\u001b[1;34m'best'\u001b[0m\u001b[1;33m)\u001b[0m\u001b[1;33m\u001b[0m\u001b[1;33m\u001b[0m\u001b[0m\n",
      "\u001b[1;31mNameError\u001b[0m: name 'pred_hwe_mul_add' is not defined"
     ]
    },
    {
     "data": {
      "image/png": "[encoded data removed]",
      "text/plain": [
       "<Figure size 432x288 with 1 Axes>"
      ]
     },
     "metadata": {
      "needs_background": "light"
     },
     "output_type": "display_data"
    }
   ],
   "source": [
    "plt.plot(pred_hw.index, pred_hw, label='Holts_winter')\n",
    "plt.plot(pred_hwe_add_add.index,pred_hwe_add_add,label=\"HoltsWinterExponential_1\")\n",
    "plt.plot(pred_hwe_mul_add.index,pred_hwe_mul_add,label=\"HoltsWinterExponential_2\")\n",
    "plt.legend(loc='best')"
   ]
  },
  {
   "cell_type": "markdown",
   "id": "adb73065",
   "metadata": {},
   "source": [
    "# Model Based Methods"
   ]
  },
  {
   "cell_type": "markdown",
   "id": "42bd382a",
   "metadata": {},
   "source": [
    "### Using c standred formate convert datetime to string and extract year and month"
   ]
  },
  {
   "cell_type": "code",
   "execution_count": 29,
   "id": "518b40d4",
   "metadata": {},
   "outputs": [
    {
     "data": {
      "text/html": [
       "<div>\n",
       "<style scoped>\n",
       "    .dataframe tbody tr th:only-of-type {\n",
       "        vertical-align: middle;\n",
       "    }\n",
       "\n",
       "    .dataframe tbody tr th {\n",
       "        vertical-align: top;\n",
       "    }\n",
       "\n",
       "    .dataframe thead th {\n",
       "        text-align: right;\n",
       "    }\n",
       "</style>\n",
       "<table border=\"1\" class=\"dataframe\">\n",
       "  <thead>\n",
       "    <tr style=\"text-align: right;\">\n",
       "      <th></th>\n",
       "      <th>Month</th>\n",
       "      <th>Passengers</th>\n",
       "      <th>Date</th>\n",
       "    </tr>\n",
       "  </thead>\n",
       "  <tbody>\n",
       "    <tr>\n",
       "      <th>0</th>\n",
       "      <td>1995-01-01</td>\n",
       "      <td>112</td>\n",
       "      <td>1995-01-01</td>\n",
       "    </tr>\n",
       "    <tr>\n",
       "      <th>1</th>\n",
       "      <td>1995-02-01</td>\n",
       "      <td>118</td>\n",
       "      <td>1995-02-01</td>\n",
       "    </tr>\n",
       "    <tr>\n",
       "      <th>2</th>\n",
       "      <td>1995-03-01</td>\n",
       "      <td>132</td>\n",
       "      <td>1995-03-01</td>\n",
       "    </tr>\n",
       "    <tr>\n",
       "      <th>3</th>\n",
       "      <td>1995-04-01</td>\n",
       "      <td>129</td>\n",
       "      <td>1995-04-01</td>\n",
       "    </tr>\n",
       "    <tr>\n",
       "      <th>4</th>\n",
       "      <td>1995-05-01</td>\n",
       "      <td>121</td>\n",
       "      <td>1995-05-01</td>\n",
       "    </tr>\n",
       "    <tr>\n",
       "      <th>...</th>\n",
       "      <td>...</td>\n",
       "      <td>...</td>\n",
       "      <td>...</td>\n",
       "    </tr>\n",
       "    <tr>\n",
       "      <th>91</th>\n",
       "      <td>2002-08-01</td>\n",
       "      <td>405</td>\n",
       "      <td>2002-08-01</td>\n",
       "    </tr>\n",
       "    <tr>\n",
       "      <th>92</th>\n",
       "      <td>2002-09-01</td>\n",
       "      <td>355</td>\n",
       "      <td>2002-09-01</td>\n",
       "    </tr>\n",
       "    <tr>\n",
       "      <th>93</th>\n",
       "      <td>2002-10-01</td>\n",
       "      <td>306</td>\n",
       "      <td>2002-10-01</td>\n",
       "    </tr>\n",
       "    <tr>\n",
       "      <th>94</th>\n",
       "      <td>2002-11-01</td>\n",
       "      <td>271</td>\n",
       "      <td>2002-11-01</td>\n",
       "    </tr>\n",
       "    <tr>\n",
       "      <th>95</th>\n",
       "      <td>2002-12-01</td>\n",
       "      <td>306</td>\n",
       "      <td>2002-12-01</td>\n",
       "    </tr>\n",
       "  </tbody>\n",
       "</table>\n",
       "<p>96 rows × 3 columns</p>\n",
       "</div>"
      ],
      "text/plain": [
       "        Month  Passengers       Date\n",
       "0  1995-01-01         112 1995-01-01\n",
       "1  1995-02-01         118 1995-02-01\n",
       "2  1995-03-01         132 1995-03-01\n",
       "3  1995-04-01         129 1995-04-01\n",
       "4  1995-05-01         121 1995-05-01\n",
       "..        ...         ...        ...\n",
       "91 2002-08-01         405 2002-08-01\n",
       "92 2002-09-01         355 2002-09-01\n",
       "93 2002-10-01         306 2002-10-01\n",
       "94 2002-11-01         271 2002-11-01\n",
       "95 2002-12-01         306 2002-12-01\n",
       "\n",
       "[96 rows x 3 columns]"
      ]
     },
     "execution_count": 29,
     "metadata": {},
     "output_type": "execute_result"
    }
   ],
   "source": [
    "Airline[\"Date\"] = pd.to_datetime(Airline[\"Month\"],format=\"%b-%y\")\n",
    "Airline"
   ]
  },
  {
   "cell_type": "code",
   "execution_count": 30,
   "id": "dbdbe930",
   "metadata": {},
   "outputs": [],
   "source": [
    "Airline[\"month\"] = Airline.Date.dt.strftime(\"%b\") # month extraction\n",
    "Airline[\"year\"]  = Airline.Date.dt.strftime(\"%Y\") # year extraction"
   ]
  },
  {
   "cell_type": "code",
   "execution_count": 31,
   "id": "5ce4be5b",
   "metadata": {},
   "outputs": [
    {
     "data": {
      "text/html": [
       "<div>\n",
       "<style scoped>\n",
       "    .dataframe tbody tr th:only-of-type {\n",
       "        vertical-align: middle;\n",
       "    }\n",
       "\n",
       "    .dataframe tbody tr th {\n",
       "        vertical-align: top;\n",
       "    }\n",
       "\n",
       "    .dataframe thead th {\n",
       "        text-align: right;\n",
       "    }\n",
       "</style>\n",
       "<table border=\"1\" class=\"dataframe\">\n",
       "  <thead>\n",
       "    <tr style=\"text-align: right;\">\n",
       "      <th></th>\n",
       "      <th>Month</th>\n",
       "      <th>Passengers</th>\n",
       "      <th>Date</th>\n",
       "      <th>month</th>\n",
       "      <th>year</th>\n",
       "    </tr>\n",
       "  </thead>\n",
       "  <tbody>\n",
       "    <tr>\n",
       "      <th>0</th>\n",
       "      <td>1995-01-01</td>\n",
       "      <td>112</td>\n",
       "      <td>1995-01-01</td>\n",
       "      <td>Jan</td>\n",
       "      <td>1995</td>\n",
       "    </tr>\n",
       "    <tr>\n",
       "      <th>1</th>\n",
       "      <td>1995-02-01</td>\n",
       "      <td>118</td>\n",
       "      <td>1995-02-01</td>\n",
       "      <td>Feb</td>\n",
       "      <td>1995</td>\n",
       "    </tr>\n",
       "    <tr>\n",
       "      <th>2</th>\n",
       "      <td>1995-03-01</td>\n",
       "      <td>132</td>\n",
       "      <td>1995-03-01</td>\n",
       "      <td>Mar</td>\n",
       "      <td>1995</td>\n",
       "    </tr>\n",
       "    <tr>\n",
       "      <th>3</th>\n",
       "      <td>1995-04-01</td>\n",
       "      <td>129</td>\n",
       "      <td>1995-04-01</td>\n",
       "      <td>Apr</td>\n",
       "      <td>1995</td>\n",
       "    </tr>\n",
       "    <tr>\n",
       "      <th>4</th>\n",
       "      <td>1995-05-01</td>\n",
       "      <td>121</td>\n",
       "      <td>1995-05-01</td>\n",
       "      <td>May</td>\n",
       "      <td>1995</td>\n",
       "    </tr>\n",
       "    <tr>\n",
       "      <th>...</th>\n",
       "      <td>...</td>\n",
       "      <td>...</td>\n",
       "      <td>...</td>\n",
       "      <td>...</td>\n",
       "      <td>...</td>\n",
       "    </tr>\n",
       "    <tr>\n",
       "      <th>91</th>\n",
       "      <td>2002-08-01</td>\n",
       "      <td>405</td>\n",
       "      <td>2002-08-01</td>\n",
       "      <td>Aug</td>\n",
       "      <td>2002</td>\n",
       "    </tr>\n",
       "    <tr>\n",
       "      <th>92</th>\n",
       "      <td>2002-09-01</td>\n",
       "      <td>355</td>\n",
       "      <td>2002-09-01</td>\n",
       "      <td>Sep</td>\n",
       "      <td>2002</td>\n",
       "    </tr>\n",
       "    <tr>\n",
       "      <th>93</th>\n",
       "      <td>2002-10-01</td>\n",
       "      <td>306</td>\n",
       "      <td>2002-10-01</td>\n",
       "      <td>Oct</td>\n",
       "      <td>2002</td>\n",
       "    </tr>\n",
       "    <tr>\n",
       "      <th>94</th>\n",
       "      <td>2002-11-01</td>\n",
       "      <td>271</td>\n",
       "      <td>2002-11-01</td>\n",
       "      <td>Nov</td>\n",
       "      <td>2002</td>\n",
       "    </tr>\n",
       "    <tr>\n",
       "      <th>95</th>\n",
       "      <td>2002-12-01</td>\n",
       "      <td>306</td>\n",
       "      <td>2002-12-01</td>\n",
       "      <td>Dec</td>\n",
       "      <td>2002</td>\n",
       "    </tr>\n",
       "  </tbody>\n",
       "</table>\n",
       "<p>96 rows × 5 columns</p>\n",
       "</div>"
      ],
      "text/plain": [
       "        Month  Passengers       Date month  year\n",
       "0  1995-01-01         112 1995-01-01   Jan  1995\n",
       "1  1995-02-01         118 1995-02-01   Feb  1995\n",
       "2  1995-03-01         132 1995-03-01   Mar  1995\n",
       "3  1995-04-01         129 1995-04-01   Apr  1995\n",
       "4  1995-05-01         121 1995-05-01   May  1995\n",
       "..        ...         ...        ...   ...   ...\n",
       "91 2002-08-01         405 2002-08-01   Aug  2002\n",
       "92 2002-09-01         355 2002-09-01   Sep  2002\n",
       "93 2002-10-01         306 2002-10-01   Oct  2002\n",
       "94 2002-11-01         271 2002-11-01   Nov  2002\n",
       "95 2002-12-01         306 2002-12-01   Dec  2002\n",
       "\n",
       "[96 rows x 5 columns]"
      ]
     },
     "execution_count": 31,
     "metadata": {},
     "output_type": "execute_result"
    }
   ],
   "source": [
    "Airline"
   ]
  },
  {
   "cell_type": "code",
   "execution_count": 32,
   "id": "4880a3be",
   "metadata": {},
   "outputs": [],
   "source": [
    "t= np.arange(1,97)\n",
    "Airline['t']=t\n",
    "Airline['t_square']=Airline['t']*Airline['t']\n",
    "log_Passengers=np.log(Airline['Passengers'])\n",
    "Airline['log_Passengers']=log_Passengers"
   ]
  },
  {
   "cell_type": "code",
   "execution_count": 33,
   "id": "e80c2919",
   "metadata": {},
   "outputs": [],
   "source": [
    "Airline = pd.get_dummies(Airline,columns=['month'])"
   ]
  },
  {
   "cell_type": "code",
   "execution_count": 34,
   "id": "637e68e2",
   "metadata": {},
   "outputs": [
    {
     "data": {
      "text/html": [
       "<div>\n",
       "<style scoped>\n",
       "    .dataframe tbody tr th:only-of-type {\n",
       "        vertical-align: middle;\n",
       "    }\n",
       "\n",
       "    .dataframe tbody tr th {\n",
       "        vertical-align: top;\n",
       "    }\n",
       "\n",
       "    .dataframe thead th {\n",
       "        text-align: right;\n",
       "    }\n",
       "</style>\n",
       "<table border=\"1\" class=\"dataframe\">\n",
       "  <thead>\n",
       "    <tr style=\"text-align: right;\">\n",
       "      <th></th>\n",
       "      <th>Month</th>\n",
       "      <th>Passengers</th>\n",
       "      <th>Date</th>\n",
       "      <th>year</th>\n",
       "      <th>t</th>\n",
       "      <th>t_square</th>\n",
       "      <th>log_Passengers</th>\n",
       "      <th>month_Apr</th>\n",
       "      <th>month_Aug</th>\n",
       "      <th>month_Dec</th>\n",
       "      <th>month_Feb</th>\n",
       "      <th>month_Jan</th>\n",
       "      <th>month_Jul</th>\n",
       "      <th>month_Jun</th>\n",
       "      <th>month_Mar</th>\n",
       "      <th>month_May</th>\n",
       "      <th>month_Nov</th>\n",
       "      <th>month_Oct</th>\n",
       "      <th>month_Sep</th>\n",
       "    </tr>\n",
       "  </thead>\n",
       "  <tbody>\n",
       "    <tr>\n",
       "      <th>0</th>\n",
       "      <td>1995-01-01</td>\n",
       "      <td>112</td>\n",
       "      <td>1995-01-01</td>\n",
       "      <td>1995</td>\n",
       "      <td>1</td>\n",
       "      <td>1</td>\n",
       "      <td>4.718499</td>\n",
       "      <td>0</td>\n",
       "      <td>0</td>\n",
       "      <td>0</td>\n",
       "      <td>0</td>\n",
       "      <td>1</td>\n",
       "      <td>0</td>\n",
       "      <td>0</td>\n",
       "      <td>0</td>\n",
       "      <td>0</td>\n",
       "      <td>0</td>\n",
       "      <td>0</td>\n",
       "      <td>0</td>\n",
       "    </tr>\n",
       "    <tr>\n",
       "      <th>1</th>\n",
       "      <td>1995-02-01</td>\n",
       "      <td>118</td>\n",
       "      <td>1995-02-01</td>\n",
       "      <td>1995</td>\n",
       "      <td>2</td>\n",
       "      <td>4</td>\n",
       "      <td>4.770685</td>\n",
       "      <td>0</td>\n",
       "      <td>0</td>\n",
       "      <td>0</td>\n",
       "      <td>1</td>\n",
       "      <td>0</td>\n",
       "      <td>0</td>\n",
       "      <td>0</td>\n",
       "      <td>0</td>\n",
       "      <td>0</td>\n",
       "      <td>0</td>\n",
       "      <td>0</td>\n",
       "      <td>0</td>\n",
       "    </tr>\n",
       "    <tr>\n",
       "      <th>2</th>\n",
       "      <td>1995-03-01</td>\n",
       "      <td>132</td>\n",
       "      <td>1995-03-01</td>\n",
       "      <td>1995</td>\n",
       "      <td>3</td>\n",
       "      <td>9</td>\n",
       "      <td>4.882802</td>\n",
       "      <td>0</td>\n",
       "      <td>0</td>\n",
       "      <td>0</td>\n",
       "      <td>0</td>\n",
       "      <td>0</td>\n",
       "      <td>0</td>\n",
       "      <td>0</td>\n",
       "      <td>1</td>\n",
       "      <td>0</td>\n",
       "      <td>0</td>\n",
       "      <td>0</td>\n",
       "      <td>0</td>\n",
       "    </tr>\n",
       "    <tr>\n",
       "      <th>3</th>\n",
       "      <td>1995-04-01</td>\n",
       "      <td>129</td>\n",
       "      <td>1995-04-01</td>\n",
       "      <td>1995</td>\n",
       "      <td>4</td>\n",
       "      <td>16</td>\n",
       "      <td>4.859812</td>\n",
       "      <td>1</td>\n",
       "      <td>0</td>\n",
       "      <td>0</td>\n",
       "      <td>0</td>\n",
       "      <td>0</td>\n",
       "      <td>0</td>\n",
       "      <td>0</td>\n",
       "      <td>0</td>\n",
       "      <td>0</td>\n",
       "      <td>0</td>\n",
       "      <td>0</td>\n",
       "      <td>0</td>\n",
       "    </tr>\n",
       "    <tr>\n",
       "      <th>4</th>\n",
       "      <td>1995-05-01</td>\n",
       "      <td>121</td>\n",
       "      <td>1995-05-01</td>\n",
       "      <td>1995</td>\n",
       "      <td>5</td>\n",
       "      <td>25</td>\n",
       "      <td>4.795791</td>\n",
       "      <td>0</td>\n",
       "      <td>0</td>\n",
       "      <td>0</td>\n",
       "      <td>0</td>\n",
       "      <td>0</td>\n",
       "      <td>0</td>\n",
       "      <td>0</td>\n",
       "      <td>0</td>\n",
       "      <td>1</td>\n",
       "      <td>0</td>\n",
       "      <td>0</td>\n",
       "      <td>0</td>\n",
       "    </tr>\n",
       "    <tr>\n",
       "      <th>...</th>\n",
       "      <td>...</td>\n",
       "      <td>...</td>\n",
       "      <td>...</td>\n",
       "      <td>...</td>\n",
       "      <td>...</td>\n",
       "      <td>...</td>\n",
       "      <td>...</td>\n",
       "      <td>...</td>\n",
       "      <td>...</td>\n",
       "      <td>...</td>\n",
       "      <td>...</td>\n",
       "      <td>...</td>\n",
       "      <td>...</td>\n",
       "      <td>...</td>\n",
       "      <td>...</td>\n",
       "      <td>...</td>\n",
       "      <td>...</td>\n",
       "      <td>...</td>\n",
       "      <td>...</td>\n",
       "    </tr>\n",
       "    <tr>\n",
       "      <th>91</th>\n",
       "      <td>2002-08-01</td>\n",
       "      <td>405</td>\n",
       "      <td>2002-08-01</td>\n",
       "      <td>2002</td>\n",
       "      <td>92</td>\n",
       "      <td>8464</td>\n",
       "      <td>6.003887</td>\n",
       "      <td>0</td>\n",
       "      <td>1</td>\n",
       "      <td>0</td>\n",
       "      <td>0</td>\n",
       "      <td>0</td>\n",
       "      <td>0</td>\n",
       "      <td>0</td>\n",
       "      <td>0</td>\n",
       "      <td>0</td>\n",
       "      <td>0</td>\n",
       "      <td>0</td>\n",
       "      <td>0</td>\n",
       "    </tr>\n",
       "    <tr>\n",
       "      <th>92</th>\n",
       "      <td>2002-09-01</td>\n",
       "      <td>355</td>\n",
       "      <td>2002-09-01</td>\n",
       "      <td>2002</td>\n",
       "      <td>93</td>\n",
       "      <td>8649</td>\n",
       "      <td>5.872118</td>\n",
       "      <td>0</td>\n",
       "      <td>0</td>\n",
       "      <td>0</td>\n",
       "      <td>0</td>\n",
       "      <td>0</td>\n",
       "      <td>0</td>\n",
       "      <td>0</td>\n",
       "      <td>0</td>\n",
       "      <td>0</td>\n",
       "      <td>0</td>\n",
       "      <td>0</td>\n",
       "      <td>1</td>\n",
       "    </tr>\n",
       "    <tr>\n",
       "      <th>93</th>\n",
       "      <td>2002-10-01</td>\n",
       "      <td>306</td>\n",
       "      <td>2002-10-01</td>\n",
       "      <td>2002</td>\n",
       "      <td>94</td>\n",
       "      <td>8836</td>\n",
       "      <td>5.723585</td>\n",
       "      <td>0</td>\n",
       "      <td>0</td>\n",
       "      <td>0</td>\n",
       "      <td>0</td>\n",
       "      <td>0</td>\n",
       "      <td>0</td>\n",
       "      <td>0</td>\n",
       "      <td>0</td>\n",
       "      <td>0</td>\n",
       "      <td>0</td>\n",
       "      <td>1</td>\n",
       "      <td>0</td>\n",
       "    </tr>\n",
       "    <tr>\n",
       "      <th>94</th>\n",
       "      <td>2002-11-01</td>\n",
       "      <td>271</td>\n",
       "      <td>2002-11-01</td>\n",
       "      <td>2002</td>\n",
       "      <td>95</td>\n",
       "      <td>9025</td>\n",
       "      <td>5.602119</td>\n",
       "      <td>0</td>\n",
       "      <td>0</td>\n",
       "      <td>0</td>\n",
       "      <td>0</td>\n",
       "      <td>0</td>\n",
       "      <td>0</td>\n",
       "      <td>0</td>\n",
       "      <td>0</td>\n",
       "      <td>0</td>\n",
       "      <td>1</td>\n",
       "      <td>0</td>\n",
       "      <td>0</td>\n",
       "    </tr>\n",
       "    <tr>\n",
       "      <th>95</th>\n",
       "      <td>2002-12-01</td>\n",
       "      <td>306</td>\n",
       "      <td>2002-12-01</td>\n",
       "      <td>2002</td>\n",
       "      <td>96</td>\n",
       "      <td>9216</td>\n",
       "      <td>5.723585</td>\n",
       "      <td>0</td>\n",
       "      <td>0</td>\n",
       "      <td>1</td>\n",
       "      <td>0</td>\n",
       "      <td>0</td>\n",
       "      <td>0</td>\n",
       "      <td>0</td>\n",
       "      <td>0</td>\n",
       "      <td>0</td>\n",
       "      <td>0</td>\n",
       "      <td>0</td>\n",
       "      <td>0</td>\n",
       "    </tr>\n",
       "  </tbody>\n",
       "</table>\n",
       "<p>96 rows × 19 columns</p>\n",
       "</div>"
      ],
      "text/plain": [
       "        Month  Passengers       Date  year   t  t_square  log_Passengers  \\\n",
       "0  1995-01-01         112 1995-01-01  1995   1         1        4.718499   \n",
       "1  1995-02-01         118 1995-02-01  1995   2         4        4.770685   \n",
       "2  1995-03-01         132 1995-03-01  1995   3         9        4.882802   \n",
       "3  1995-04-01         129 1995-04-01  1995   4        16        4.859812   \n",
       "4  1995-05-01         121 1995-05-01  1995   5        25        4.795791   \n",
       "..        ...         ...        ...   ...  ..       ...             ...   \n",
       "91 2002-08-01         405 2002-08-01  2002  92      8464        6.003887   \n",
       "92 2002-09-01         355 2002-09-01  2002  93      8649        5.872118   \n",
       "93 2002-10-01         306 2002-10-01  2002  94      8836        5.723585   \n",
       "94 2002-11-01         271 2002-11-01  2002  95      9025        5.602119   \n",
       "95 2002-12-01         306 2002-12-01  2002  96      9216        5.723585   \n",
       "\n",
       "    month_Apr  month_Aug  month_Dec  month_Feb  month_Jan  month_Jul  \\\n",
       "0           0          0          0          0          1          0   \n",
       "1           0          0          0          1          0          0   \n",
       "2           0          0          0          0          0          0   \n",
       "3           1          0          0          0          0          0   \n",
       "4           0          0          0          0          0          0   \n",
       "..        ...        ...        ...        ...        ...        ...   \n",
       "91          0          1          0          0          0          0   \n",
       "92          0          0          0          0          0          0   \n",
       "93          0          0          0          0          0          0   \n",
       "94          0          0          0          0          0          0   \n",
       "95          0          0          1          0          0          0   \n",
       "\n",
       "    month_Jun  month_Mar  month_May  month_Nov  month_Oct  month_Sep  \n",
       "0           0          0          0          0          0          0  \n",
       "1           0          0          0          0          0          0  \n",
       "2           0          1          0          0          0          0  \n",
       "3           0          0          0          0          0          0  \n",
       "4           0          0          1          0          0          0  \n",
       "..        ...        ...        ...        ...        ...        ...  \n",
       "91          0          0          0          0          0          0  \n",
       "92          0          0          0          0          0          1  \n",
       "93          0          0          0          0          1          0  \n",
       "94          0          0          0          1          0          0  \n",
       "95          0          0          0          0          0          0  \n",
       "\n",
       "[96 rows x 19 columns]"
      ]
     },
     "execution_count": 34,
     "metadata": {},
     "output_type": "execute_result"
    }
   ],
   "source": [
    "Airline"
   ]
  },
  {
   "cell_type": "markdown",
   "id": "35f3ea6e",
   "metadata": {},
   "source": [
    "# Model Building | Training | Testing"
   ]
  },
  {
   "cell_type": "code",
   "execution_count": 35,
   "id": "bffad542",
   "metadata": {},
   "outputs": [],
   "source": [
    "Train = Airline.head(70)\n",
    "Test  = Airline.tail(26)"
   ]
  },
  {
   "cell_type": "markdown",
   "id": "55befebb",
   "metadata": {},
   "source": [
    "## 1. Linear model"
   ]
  },
  {
   "cell_type": "code",
   "execution_count": 36,
   "id": "ecc70256",
   "metadata": {},
   "outputs": [
    {
     "data": {
      "text/plain": [
       "17.681879908211886"
      ]
     },
     "execution_count": 36,
     "metadata": {},
     "output_type": "execute_result"
    }
   ],
   "source": [
    "linear= smf.ols('Passengers~t',data=Train).fit()\n",
    "predlin=pd.Series(linear.predict(pd.DataFrame(Test['t'])))\n",
    "rmselin=np.sqrt((np.mean(np.array(Test['Passengers'])-np.array(predlin))**2))\n",
    "rmselin"
   ]
  },
  {
   "cell_type": "markdown",
   "id": "c94f1f19",
   "metadata": {},
   "source": [
    "## 2. Quadratic Model"
   ]
  },
  {
   "cell_type": "code",
   "execution_count": 37,
   "id": "e979ac3d",
   "metadata": {},
   "outputs": [
    {
     "data": {
      "text/plain": [
       "43.89814496742656"
      ]
     },
     "execution_count": 37,
     "metadata": {},
     "output_type": "execute_result"
    }
   ],
   "source": [
    "quad=smf.ols('Passengers~t+t_square',data=Train).fit()\n",
    "predquad=pd.Series(quad.predict(pd.DataFrame(Test[['t','t_square']])))\n",
    "rmsequad=np.sqrt(np.mean((np.array(Test['Passengers'])-np.array(predquad))**2))\n",
    "rmsequad"
   ]
  },
  {
   "cell_type": "markdown",
   "id": "db5c853e",
   "metadata": {},
   "source": [
    "## 3. Exponential model"
   ]
  },
  {
   "cell_type": "code",
   "execution_count": 38,
   "id": "e5dbe4ff",
   "metadata": {},
   "outputs": [
    {
     "data": {
      "text/plain": [
       "43.47847070446902"
      ]
     },
     "execution_count": 38,
     "metadata": {},
     "output_type": "execute_result"
    }
   ],
   "source": [
    "expo=smf.ols('log_Passengers~t',data=Train).fit()\n",
    "predexp=pd.Series(expo.predict(pd.DataFrame(Test['t'])))\n",
    "predexp\n",
    "rmseexpo=np.sqrt(np.mean((np.array(Test['Passengers'])-np.array(np.exp(predexp)))**2))\n",
    "rmseexpo"
   ]
  },
  {
   "cell_type": "markdown",
   "id": "39d081d1",
   "metadata": {},
   "source": [
    "## 4.Additive seasonality"
   ]
  },
  {
   "cell_type": "code",
   "execution_count": 39,
   "id": "116f83b8",
   "metadata": {},
   "outputs": [
    {
     "data": {
      "text/plain": [
       "124.97569951828821"
      ]
     },
     "execution_count": 39,
     "metadata": {},
     "output_type": "execute_result"
    }
   ],
   "source": [
    "additive = smf.ols('Passengers~month_Jan+month_Feb+month_Mar+month_Apr+month_May+month_Jun+month_Jul+\\\n",
    "month_Aug+month_Sep+month_Oct+month_Nov+month_Dec',data=Train).fit()\n",
    "predadd = pd.Series(additive.predict(Test[['month_Jan','month_Feb','month_Mar','month_Apr','month_May','month_Jun',\\\n",
    "                                               'month_Jul','month_Aug','month_Sep','month_Oct','month_Nov','month_Dec']]))\n",
    "rmseadd = np.sqrt(np.mean((np.array(Test['Passengers'])-np.array(predadd))**2))\n",
    "rmseadd"
   ]
  },
  {
   "cell_type": "markdown",
   "id": "04143907",
   "metadata": {},
   "source": [
    "## 5.Additive seasonality with linear trend"
   ]
  },
  {
   "cell_type": "code",
   "execution_count": 40,
   "id": "fc3b5ca0",
   "metadata": {},
   "outputs": [
    {
     "data": {
      "text/plain": [
       "34.5020897942713"
      ]
     },
     "execution_count": 40,
     "metadata": {},
     "output_type": "execute_result"
    }
   ],
   "source": [
    "addlinear = smf.ols('Passengers~t+month_Jan+month_Feb+month_Mar+month_Apr+month_May+month_Jun+month_Jul+\\\n",
    "month_Aug+month_Sep+month_Oct+month_Nov+month_Dec',data=Train).fit()\n",
    "predaddlinear = pd.Series(addlinear.predict(Test[['t','month_Jan','month_Feb','month_Mar','month_Apr','month_May','month_Jun',\\\n",
    "                                               'month_Jul','month_Aug','month_Sep','month_Oct','month_Nov','month_Dec']]))\n",
    "\n",
    "rmseaddlinear=np.sqrt(np.mean((np.array(Test['Passengers'])-np.array(predaddlinear))**2))\n",
    "rmseaddlinear"
   ]
  },
  {
   "cell_type": "markdown",
   "id": "ab4c597a",
   "metadata": {},
   "source": [
    "## 6.Additive seasonality with quadratic trend"
   ]
  },
  {
   "cell_type": "code",
   "execution_count": 41,
   "id": "729020a9",
   "metadata": {},
   "outputs": [
    {
     "data": {
      "text/plain": [
       "30.393042895923845"
      ]
     },
     "execution_count": 41,
     "metadata": {},
     "output_type": "execute_result"
    }
   ],
   "source": [
    "addquad = smf.ols('Passengers~t+t_square+month_Jan+month_Feb+month_Mar+month_Apr+month_May+month_Jun+month_Jul+\\\n",
    "month_Aug+month_Sep+month_Oct+month_Nov+month_Dec',data=Train).fit()\n",
    "predaddquad = pd.Series(addquad.predict(Test[['t','t_square','month_Jan','month_Feb','month_Mar','month_Apr','month_May','month_Jun',\\\n",
    "                                               'month_Jul','month_Aug','month_Sep','month_Oct','month_Nov','month_Dec']]))\n",
    "\n",
    "rmseaddquad=np.sqrt(np.mean((np.array(Test['Passengers'])-np.array(predaddquad))**2))\n",
    "rmseaddquad"
   ]
  },
  {
   "cell_type": "markdown",
   "id": "c8e10050",
   "metadata": {},
   "source": [
    "## 7.Multiplicative seasonality"
   ]
  },
  {
   "cell_type": "code",
   "execution_count": 42,
   "id": "bb328267",
   "metadata": {},
   "outputs": [
    {
     "data": {
      "text/plain": [
       "298.6798189957354"
      ]
     },
     "execution_count": 42,
     "metadata": {},
     "output_type": "execute_result"
    }
   ],
   "source": [
    "mulsea = smf.ols('log_Passengers~month_Jan+month_Feb+month_Mar+month_Apr+month_May+month_Jun+month_Jul+\\\n",
    "month_Aug+month_Sep+month_Oct+month_Nov+month_Dec',data=Train).fit()\n",
    "predmul = pd.Series(mulsea.predict(Test[['month_Jan','month_Feb','month_Mar','month_Apr','month_May','month_Jun',\\\n",
    "                                               'month_Jul','month_Aug','month_Sep','month_Oct','month_Nov','month_Dec']]))\n",
    "\n",
    "rmsemul=np.sqrt(np.mean((np.array(Test['Passengers'])-np.array(predmul))**2))\n",
    "rmsemul"
   ]
  },
  {
   "cell_type": "markdown",
   "id": "70522332",
   "metadata": {},
   "source": [
    "## 8.Multiplicative seasonality with linear trend"
   ]
  },
  {
   "cell_type": "code",
   "execution_count": 43,
   "id": "8dcc5d78",
   "metadata": {},
   "outputs": [
    {
     "data": {
      "text/plain": [
       "298.6798189957354"
      ]
     },
     "execution_count": 43,
     "metadata": {},
     "output_type": "execute_result"
    }
   ],
   "source": [
    "mullin = smf.ols('log_Passengers~t+month_Jan+month_Feb+month_Mar+month_Apr+month_May+month_Jun+month_Jul+\\\n",
    "month_Aug+month_Sep+month_Oct+month_Nov+month_Dec',data=Train).fit()\n",
    "predmullin = pd.Series(mullin.predict(Test[['t','month_Jan','month_Feb','month_Mar','month_Apr','month_May','month_Jun',\\\n",
    "                                               'month_Jul','month_Aug','month_Sep','month_Oct','month_Nov','month_Dec']]))\n",
    "\n",
    "rmsemulin=np.sqrt(np.mean((np.array(Test['Passengers'])-np.array(predmullin))**2))\n",
    "rmsemul"
   ]
  },
  {
   "cell_type": "markdown",
   "id": "d3369697",
   "metadata": {},
   "source": [
    "# 9.Multiplicative seasonality with quadratic trend"
   ]
  },
  {
   "cell_type": "code",
   "execution_count": 44,
   "id": "1454f560",
   "metadata": {},
   "outputs": [
    {
     "data": {
      "text/plain": [
       "30.393042895923845"
      ]
     },
     "execution_count": 44,
     "metadata": {},
     "output_type": "execute_result"
    }
   ],
   "source": [
    "mul_quad = smf.ols('Passengers~t+t_square+month_Jan+month_Feb+month_Mar+month_Apr+month_May+month_Jun+month_Jul+\\\n",
    "month_Aug+month_Sep+month_Oct+month_Nov+month_Dec',data=Train).fit()\n",
    "pred_mul_quad = pd.Series(mul_quad.predict(Test[['t','t_square','month_Jan','month_Feb','month_Mar','month_Apr','month_May','month_Jun',\\\n",
    "                                               'month_Jul','month_Aug','month_Sep','month_Oct','month_Nov','month_Dec']]))\n",
    "\n",
    "rmse_mul_quad=np.sqrt(np.mean((np.array(Test['Passengers'])-np.array(pred_mul_quad))**2))\n",
    "rmse_mul_quad"
   ]
  },
  {
   "cell_type": "markdown",
   "id": "a20032eb",
   "metadata": {},
   "source": [
    "# Compare RMSE Value"
   ]
  },
  {
   "cell_type": "code",
   "execution_count": 45,
   "id": "74186a0a",
   "metadata": {},
   "outputs": [],
   "source": [
    "data={'Model':pd.Series(['rmse_mul_quad','rmseadd','rmseaddlinear','rmseaddquad','rmseexpo','rmselin','rmsemul','rmsemulin','rmsequad']),\n",
    "      'Values':pd.Series([rmse_mul_quad,rmseadd,rmseaddlinear,rmseaddquad,rmseexpo,rmselin,rmsemul,rmsemulin,rmsequad])}\n",
    "table_rmse=pd.DataFrame(data)"
   ]
  },
  {
   "cell_type": "code",
   "execution_count": 46,
   "id": "ad5a89d5",
   "metadata": {},
   "outputs": [
    {
     "data": {
      "text/html": [
       "<div>\n",
       "<style scoped>\n",
       "    .dataframe tbody tr th:only-of-type {\n",
       "        vertical-align: middle;\n",
       "    }\n",
       "\n",
       "    .dataframe tbody tr th {\n",
       "        vertical-align: top;\n",
       "    }\n",
       "\n",
       "    .dataframe thead th {\n",
       "        text-align: right;\n",
       "    }\n",
       "</style>\n",
       "<table border=\"1\" class=\"dataframe\">\n",
       "  <thead>\n",
       "    <tr style=\"text-align: right;\">\n",
       "      <th></th>\n",
       "      <th>Model</th>\n",
       "      <th>Values</th>\n",
       "    </tr>\n",
       "  </thead>\n",
       "  <tbody>\n",
       "    <tr>\n",
       "      <th>0</th>\n",
       "      <td>rmse_mul_quad</td>\n",
       "      <td>30.393043</td>\n",
       "    </tr>\n",
       "    <tr>\n",
       "      <th>1</th>\n",
       "      <td>rmseadd</td>\n",
       "      <td>124.975700</td>\n",
       "    </tr>\n",
       "    <tr>\n",
       "      <th>2</th>\n",
       "      <td>rmseaddlinear</td>\n",
       "      <td>34.502090</td>\n",
       "    </tr>\n",
       "    <tr>\n",
       "      <th>3</th>\n",
       "      <td>rmseaddquad</td>\n",
       "      <td>30.393043</td>\n",
       "    </tr>\n",
       "    <tr>\n",
       "      <th>4</th>\n",
       "      <td>rmseexpo</td>\n",
       "      <td>43.478471</td>\n",
       "    </tr>\n",
       "    <tr>\n",
       "      <th>5</th>\n",
       "      <td>rmselin</td>\n",
       "      <td>17.681880</td>\n",
       "    </tr>\n",
       "    <tr>\n",
       "      <th>6</th>\n",
       "      <td>rmsemul</td>\n",
       "      <td>298.679819</td>\n",
       "    </tr>\n",
       "    <tr>\n",
       "      <th>7</th>\n",
       "      <td>rmsemulin</td>\n",
       "      <td>298.136614</td>\n",
       "    </tr>\n",
       "    <tr>\n",
       "      <th>8</th>\n",
       "      <td>rmsequad</td>\n",
       "      <td>43.898145</td>\n",
       "    </tr>\n",
       "  </tbody>\n",
       "</table>\n",
       "</div>"
      ],
      "text/plain": [
       "           Model      Values\n",
       "0  rmse_mul_quad   30.393043\n",
       "1        rmseadd  124.975700\n",
       "2  rmseaddlinear   34.502090\n",
       "3    rmseaddquad   30.393043\n",
       "4       rmseexpo   43.478471\n",
       "5        rmselin   17.681880\n",
       "6        rmsemul  298.679819\n",
       "7      rmsemulin  298.136614\n",
       "8       rmsequad   43.898145"
      ]
     },
     "execution_count": 46,
     "metadata": {},
     "output_type": "execute_result"
    }
   ],
   "source": [
    "table_rmse"
   ]
  },
  {
   "cell_type": "markdown",
   "id": "3c5535af",
   "metadata": {},
   "source": [
    "From above table we can see RMSE for Linear model giving less value, so that is best model"
   ]
  },
  {
   "cell_type": "code",
   "execution_count": null,
   "id": "dd7250e8",
   "metadata": {},
   "outputs": [],
   "source": []
  }
 ],
 "metadata": {
  "kernelspec": {
   "display_name": "Python 3",
   "language": "python",
   "name": "python3"
  },
  "language_info": {
   "codemirror_mode": {
    "name": "ipython",
    "version": 3
   },
   "file_extension": ".py",
   "mimetype": "text/x-python",
   "name": "python",
   "nbconvert_exporter": "python",
   "pygments_lexer": "ipython3",
   "version": "3.8.8"
  }
 },
 "nbformat": 4,
 "nbformat_minor": 5
}
